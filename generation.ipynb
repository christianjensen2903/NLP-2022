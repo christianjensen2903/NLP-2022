{
 "cells": [
  {
   "cell_type": "code",
   "execution_count": 1,
   "metadata": {},
   "outputs": [
    {
     "name": "stderr",
     "output_type": "stream",
     "text": [
      "2022-11-01 10:28:03.189503: I tensorflow/core/platform/cpu_feature_guard.cc:193] This TensorFlow binary is optimized with oneAPI Deep Neural Network Library (oneDNN) to use the following CPU instructions in performance-critical operations:  AVX2 AVX512F AVX512_VNNI FMA\n",
      "To enable them in other operations, rebuild TensorFlow with the appropriate compiler flags.\n"
     ]
    }
   ],
   "source": [
    "from models.GPT2Generator import GPT2Generator\n",
    "# from languages.Japanese import Japanese\n",
    "# from languages.Finnish import Finnish\n",
    "from languages.English import English\n",
    "from Preprocess import Preprocess\n",
    "from Pipeline import Pipeline"
   ]
  },
  {
   "cell_type": "code",
   "execution_count": 2,
   "metadata": {},
   "outputs": [],
   "source": [
    "languages = [\n",
    "    English(),\n",
    "    # Finnish(),\n",
    "    # Japanese()\n",
    "]\n",
    "question_beginning = {\n",
    "    'english': ['Question: When', 'Question: What', 'Question: How'],\n",
    "    'finnish': ['Question: Milloin', 'Question: Mikä', 'Question: Missä'],\n",
    "    'japanese': ['Question: 日本', 'Question: 『', 'Question: アメリカ']\n",
    "}"
   ]
  },
  {
   "cell_type": "code",
   "execution_count": 3,
   "metadata": {},
   "outputs": [],
   "source": [
    "model = GPT2Generator()"
   ]
  },
  {
   "cell_type": "code",
   "execution_count": 4,
   "metadata": {},
   "outputs": [
    {
     "name": "stderr",
     "output_type": "stream",
     "text": [
      "The attention mask and the pad token id were not set. As a consequence, you may observe unexpected behavior. Please pass your input's `attention_mask` to obtain reliable results.\n",
      "Setting `pad_token_id` to `eos_token_id`:50256 for open-end generation.\n",
      "The attention mask and the pad token id were not set. As a consequence, you may observe unexpected behavior. Please pass your input's `attention_mask` to obtain reliable results.\n",
      "Setting `pad_token_id` to `eos_token_id`:50256 for open-end generation.\n"
     ]
    },
    {
     "name": "stdout",
     "output_type": "stream",
     "text": [
      "0: Question: When was the International Hydrographic Organization formed?\n",
      "Context: From 1869 to 1904 the Organization was composed of 17 international teams, consisting of representatives from 13 countries. These included: France, Russia, Brazil, the former Yugoslavia (formerly\n",
      "1: Question: When did the War of the Spanish Succession begin?\n",
      "Context: War of the Spanish Succession (Spanish: Caligula de las Indias) was a Spanish civil war between the Spanish and French forces that ended with the assassination of\n",
      "2: Question: When was the original Tomb Raider published?\n",
      "Context: Tomb Raider is a third-person action role-playing game developed by Eidos Interactive and published by Square Enix Studios, Inc. for Microsoft Windows, PlayStation 3, PlayStation 4, Xbox\n",
      "3: Question: When was the Last House on the Left released?\n",
      "Context: Last House on the Left (also known as the Last House on the Right and the Last House on the Left) is an American social movement founded in 1971 by the Socialist Party\n",
      "4: Question: When are the NFL draft eligible?\n",
      "Context: The 2017 NFL Draft began on April 29, 2017, and ended on March 22, 2018, with all 18 teams choosing a winner. Once the picks were determined, all teams then chose an\n"
     ]
    },
    {
     "name": "stderr",
     "output_type": "stream",
     "text": [
      "The attention mask and the pad token id were not set. As a consequence, you may observe unexpected behavior. Please pass your input's `attention_mask` to obtain reliable results.\n",
      "Setting `pad_token_id` to `eos_token_id`:50256 for open-end generation.\n"
     ]
    },
    {
     "name": "stdout",
     "output_type": "stream",
     "text": [
      "0: Question: What is the largest currency?\n",
      "Context: The English minting system, also known as the Royal Mint,[lower-alpha 1] followed the tradition of creating the most precious single-dollar note, known as the \"Queen's Crown\".[\n",
      "1: Question: What language do they speak in Denmark?\n",
      "Context: Danish is known for its distinctive nasal, choral, and laryngeal vocalizations and for its distinctive pronunciation. It is also known for its unique architecture and distinctive style of architecture\n",
      "2: Question: What did George Orwell write to the Observer public school system?\n",
      "Context: On 3 November 1984, the Observer's public school system closed, as a decision to do so has been described as \"unconscionable\". The Observer has\n",
      "3: Question: What is the name of a new kind of animal?\n",
      "Context: Species of animals have been described since the earliest known listings. As animal names are based on their behavior, and animals that move based on their environment, the name which is\n",
      "4: Question: What is the most abundant mineral in Hawaii?\n",
      "Context: Hawaii has an area of 4,700.7 million acres (24,000km2), of which 800,000,000 acres (28,000km2) is agricultural\n",
      "0: Question: How loud is lightning?\n",
      "Context: The current has a wavelength of about 380KHz (542 metres/s). Although the luminous intensity was thought to fluctuate over the years, the actual luminous luminous intensity was computed\n",
      "1: Question: How many soldiers are in the U.S. Army?\n",
      "Context: The enlistment of enlisted men and women by the United States armed forces is authorized by law at all levels of command.[1] The enlistment of an enlisted man\n",
      "2: Question: How long was the battle of Ypres in France?\n",
      "Context: After its defeat, the Austrians formed a coalition led by the Prussians against them. The Prussians won. When Austrian France fell on 19 August 1914\n",
      "3: Question: How old is Luke Cage?\n",
      "Context: After the death of Cage's half-brother Luke Cage (Sean Connery), Luke undergoes a series of transformations to become his true self.[2] When he appears at the end of the\n",
      "4: Question: How many years did it take for Glee to air?\n",
      "Context: The series premiered on CBS on December 19, 1965. It starred Leslie Knope and Leonard Nimoy as characters assigned to the Los Angeles Police Department (LPD)\n",
      "\n",
      "Loading data...\n"
     ]
    },
    {
     "data": {
      "application/vnd.jupyter.widget-view+json": {
       "model_id": "0708d92cff2f4468bc6eae86a5fe0d9a",
       "version_major": 2,
       "version_minor": 0
      },
      "text/plain": [
       "  0%|          | 0/1676 [00:00<?, ?ex/s]"
      ]
     },
     "metadata": {},
     "output_type": "display_data"
    },
    {
     "name": "stderr",
     "output_type": "stream",
     "text": [
      "The following columns in the evaluation set don't have a corresponding argument in `GPT2LMHeadModel.forward` and have been ignored: __index_level_0__. If __index_level_0__ are not expected by `GPT2LMHeadModel.forward`,  you can safely ignore this message.\n",
      "***** Running Evaluation *****\n",
      "  Num examples = 1676\n",
      "  Batch size = 2\n"
     ]
    },
    {
     "data": {
      "application/vnd.jupyter.widget-view+json": {
       "model_id": "ebed55226b3e41d881d2a0d8d20eb460",
       "version_major": 2,
       "version_minor": 0
      },
      "text/plain": [
       "  0%|          | 0/838 [00:00<?, ?it/s]"
      ]
     },
     "metadata": {},
     "output_type": "display_data"
    }
   ],
   "source": [
    "for language in languages:\n",
    "    model.set_language(language.name)\n",
    "    model.load()\n",
    "    for starting_word in question_beginning[language.name]:\n",
    "        model.generate_text(starting_word)\n",
    "        \n",
    "        \n",
    "    pipeline = Pipeline()\n",
    "    preprocessor = Preprocess(language.tokenize, language.clean)\n",
    "    data = pipeline.get_data(language=language.name, preproccesor=preprocessor)\n",
    "    train_data, validation_data = pipeline.split_data(data)\n",
    "    X_validation = model.extract_X(validation_data)\n",
    "    y_validation = validation_data['is_answerable']\n",
    "    model.get_perplexity(X_validation)"
   ]
  }
 ],
 "metadata": {
  "kernelspec": {
   "display_name": "Python 3.8.5 ('base')",
   "language": "python",
   "name": "python3"
  },
  "language_info": {
   "codemirror_mode": {
    "name": "ipython",
    "version": 3
   },
   "file_extension": ".py",
   "mimetype": "text/x-python",
   "name": "python",
   "nbconvert_exporter": "python",
   "pygments_lexer": "ipython3",
   "version": "3.8.5"
  },
  "orig_nbformat": 4,
  "vscode": {
   "interpreter": {
    "hash": "b9c69bc24335dc0e55392644c8f34f14710bb68159a638262db0555ff8c8aa69"
   }
  }
 },
 "nbformat": 4,
 "nbformat_minor": 2
}
