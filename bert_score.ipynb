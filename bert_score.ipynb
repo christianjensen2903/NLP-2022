{
 "cells": [
  {
   "cell_type": "code",
   "execution_count": 80,
   "metadata": {},
   "outputs": [],
   "source": [
    "import numpy as np"
   ]
  },
  {
   "cell_type": "code",
   "execution_count": 105,
   "metadata": {},
   "outputs": [],
   "source": [
    "def unit_length(matrix):\n",
    "    row_norm = np.linalg.norm(matrix, axis=2)\n",
    "    new_matrix = matrix / row_norm[:, :, np.newaxis]\n",
    "    return new_matrix"
   ]
  },
  {
   "cell_type": "code",
   "execution_count": null,
   "metadata": {},
   "outputs": [],
   "source": [
    "def bert_score(sentence_embeddings, question_embeddings):\n",
    "    sentence_embeddings = unit_length(sentence_embeddings)\n",
    "    question_embeddings = unit_length(question_embeddings)\n",
    "    similarity = sentence_embeddings@question_embeddings.T\n",
    "    recall = similarity.max(axis=1).sum()/len(sentence_embeddings)\n",
    "    precision = similarity.max(axis=0).sum()/len(question_embeddings)\n",
    "    f1 = 2*recall*precision/(recall+precision)\n",
    "    return f1"
   ]
  },
  {
   "cell_type": "code",
   "execution_count": 97,
   "metadata": {},
   "outputs": [],
   "source": [
    "sentence_embeddings = np.array([\n",
    "    [\n",
    "        [1, 2, 3],\n",
    "        [0, 2, 1],\n",
    "        [3, 5, 3],\n",
    "    ],\n",
    "    [\n",
    "        [1, 0, 3],\n",
    "        [2, 1, 1],\n",
    "        [1, 2, 1],\n",
    "    ]\n",
    "])\n",
    "question_embeddings = np.array([\n",
    "    [\n",
    "        [1, 0, 3],\n",
    "        [0, 2, 1],\n",
    "        [3, 2, 0],\n",
    "        [1, 0, 1],\n",
    "        [1, 0, 3],\n",
    "    ],\n",
    "    [\n",
    "        [1, 1, 3],\n",
    "        [1, 2, 1],\n",
    "        [3, 2, 1],\n",
    "        [1, 1, 1],\n",
    "        [1, 1, 3],\n",
    "    ]\n",
    "])"
   ]
  },
  {
   "cell_type": "code",
   "execution_count": 108,
   "metadata": {},
   "outputs": [],
   "source": [
    "sentence_embeddings = unit_length(sentence_embeddings)\n",
    "question_embeddings = unit_length(question_embeddings)"
   ]
  },
  {
   "cell_type": "code",
   "execution_count": 124,
   "metadata": {},
   "outputs": [
    {
     "data": {
      "text/plain": [
       "array([[[0.31622777, 0.        , 0.9486833 ],\n",
       "        [0.        , 0.89442719, 0.4472136 ],\n",
       "        [0.83205029, 0.5547002 , 0.        ],\n",
       "        [0.70710678, 0.        , 0.70710678],\n",
       "        [0.31622777, 0.        , 0.9486833 ]],\n",
       "\n",
       "       [[0.30151134, 0.30151134, 0.90453403],\n",
       "        [0.40824829, 0.81649658, 0.40824829],\n",
       "        [0.80178373, 0.53452248, 0.26726124],\n",
       "        [0.57735027, 0.57735027, 0.57735027],\n",
       "        [0.30151134, 0.30151134, 0.90453403]]])"
      ]
     },
     "execution_count": 124,
     "metadata": {},
     "output_type": "execute_result"
    }
   ],
   "source": [
    "question_embeddings"
   ]
  },
  {
   "cell_type": "code",
   "execution_count": 123,
   "metadata": {},
   "outputs": [
    {
     "data": {
      "text/plain": [
       "array([[[0.26726124, 0.53452248, 0.80178373],\n",
       "        [0.        , 0.89442719, 0.4472136 ],\n",
       "        [0.45749571, 0.76249285, 0.45749571]],\n",
       "\n",
       "       [[0.31622777, 0.        , 0.9486833 ],\n",
       "        [0.81649658, 0.40824829, 0.40824829],\n",
       "        [0.40824829, 0.81649658, 0.40824829]]])"
      ]
     },
     "execution_count": 123,
     "metadata": {},
     "output_type": "execute_result"
    }
   ],
   "source": [
    "sentence_embeddings"
   ]
  },
  {
   "cell_type": "code",
   "execution_count": null,
   "metadata": {},
   "outputs": [],
   "source": [
    "recall = similarity.max(axis=1).sum()/len(sentence_embeddings)\n",
    "precision = similarity.max(axis=0).sum()/len(question_embeddings)\n",
    "f1 = 2*recall*precision/(recall+precision)\n",
    "f1"
   ]
  }
 ],
 "metadata": {
  "kernelspec": {
   "display_name": "Python 3.8.5 ('base')",
   "language": "python",
   "name": "python3"
  },
  "language_info": {
   "codemirror_mode": {
    "name": "ipython",
    "version": 3
   },
   "file_extension": ".py",
   "mimetype": "text/x-python",
   "name": "python",
   "nbconvert_exporter": "python",
   "pygments_lexer": "ipython3",
   "version": "3.8.5"
  },
  "orig_nbformat": 4,
  "vscode": {
   "interpreter": {
    "hash": "b9c69bc24335dc0e55392644c8f34f14710bb68159a638262db0555ff8c8aa69"
   }
  }
 },
 "nbformat": 4,
 "nbformat_minor": 2
}
