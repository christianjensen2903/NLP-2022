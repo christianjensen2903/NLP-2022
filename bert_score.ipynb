{
 "cells": [
  {
   "cell_type": "code",
   "execution_count": 80,
   "metadata": {},
   "outputs": [],
   "source": [
    "import numpy as np"
   ]
  },
  {
   "cell_type": "code",
   "execution_count": 105,
   "metadata": {},
   "outputs": [],
   "source": [
    "def unit_length(matrix):\n",
    "    row_norm = np.linalg.norm(matrix, axis=2)\n",
    "    new_matrix = matrix / row_norm[:, :, np.newaxis]\n",
    "    return new_matrix"
   ]
  },
  {
   "cell_type": "code",
   "execution_count": null,
   "metadata": {},
   "outputs": [],
   "source": [
    "def bert_score(sentence_embeddings, question_embeddings):\n",
    "    sentence_embeddings = unit_length(sentence_embeddings)\n",
    "    question_embeddings = unit_length(question_embeddings)\n",
    "    similarity = sentence_embeddings@question_embeddings.T\n",
    "    recall = similarity.max(axis=1).sum()/len(sentence_embeddings)\n",
    "    precision = similarity.max(axis=0).sum()/len(question_embeddings)\n",
    "    f1 = 2*recall*precision/(recall+precision)\n",
    "    return f1"
   ]
  },
  {
   "cell_type": "code",
   "execution_count": 97,
   "metadata": {},
   "outputs": [],
   "source": [
    "sentence_embeddings = np.array([\n",
    "    [\n",
    "        [1, 2, 3],\n",
    "        [0, 2, 1],\n",
    "        [3, 5, 3],\n",
    "    ],\n",
    "    [\n",
    "        [1, 0, 3],\n",
    "        [2, 1, 1],\n",
    "        [1, 2, 1],\n",
    "    ]\n",
    "])\n",
    "question_embeddings = np.array([\n",
    "    [\n",
    "        [1, 0, 3],\n",
    "        [0, 2, 1],\n",
    "        [3, 2, 0],\n",
    "        [1, 0, 1],\n",
    "        [1, 0, 3],\n",
    "    ],\n",
    "    [\n",
    "        [1, 1, 3],\n",
    "        [1, 2, 1],\n",
    "        [3, 2, 1],\n",
    "        [1, 1, 1],\n",
    "        [1, 1, 3],\n",
    "    ]\n",
    "])"
   ]
  },
  {
   "cell_type": "code",
   "execution_count": 108,
   "metadata": {},
   "outputs": [],
   "source": [
    "sentence_embeddings = unit_length(sentence_embeddings)\n",
    "question_embeddings = unit_length(question_embeddings)"
   ]
  },
  {
   "cell_type": "code",
   "execution_count": 147,
   "metadata": {},
   "outputs": [
    {
     "data": {
      "text/plain": [
       "array([[0.96698756, 0.87287156, 0.71428571, 0.9258201 , 0.96698756],\n",
       "       [0.67419986, 0.91287093, 0.5976143 , 0.77459667, 0.67419986],\n",
       "       [0.78166083, 0.99611649, 0.89665306, 0.968496  , 0.78166083]])"
      ]
     },
     "execution_count": 147,
     "metadata": {},
     "output_type": "execute_result"
    }
   ],
   "source": [
    "sentence_embeddings[0]@question_embeddings[1].T"
   ]
  },
  {
   "cell_type": "code",
   "execution_count": 152,
   "metadata": {},
   "outputs": [
    {
     "data": {
      "text/plain": [
       "array([[0.95346259, 0.51639778, 0.50709255, 0.73029674, 0.95346259],\n",
       "       [0.73854895, 0.83333333, 0.98198051, 0.94280904, 0.73854895],\n",
       "       [0.73854895, 1.        , 0.87287156, 0.94280904, 0.73854895]])"
      ]
     },
     "execution_count": 152,
     "metadata": {},
     "output_type": "execute_result"
    }
   ],
   "source": [
    "np.tensordot(sentence_embeddings[1], question_embeddings[1], axes=(1,1))"
   ]
  },
  {
   "cell_type": "code",
   "execution_count": 151,
   "metadata": {},
   "outputs": [
    {
     "data": {
      "text/plain": [
       "array([[0.84515425, 0.83666003, 0.51887452, 0.75592895, 0.84515425],\n",
       "       [0.42426407, 1.        , 0.49613894, 0.31622777, 0.42426407],\n",
       "       [0.57869139, 0.88659264, 0.80361438, 0.64699664, 0.57869139]])"
      ]
     },
     "execution_count": 151,
     "metadata": {},
     "output_type": "execute_result"
    }
   ],
   "source": [
    "np.tensordot(sentence_embeddings[0], question_embeddings[0], axes=(1,1))"
   ]
  },
  {
   "cell_type": "code",
   "execution_count": 165,
   "metadata": {},
   "outputs": [
    {
     "data": {
      "text/plain": [
       "array([1., 1., 1.])"
      ]
     },
     "execution_count": 165,
     "metadata": {},
     "output_type": "execute_result"
    }
   ],
   "source": [
    "np.ones(3)"
   ]
  },
  {
   "cell_type": "code",
   "execution_count": 176,
   "metadata": {},
   "outputs": [
    {
     "data": {
      "text/plain": [
       "array([[0.84515425, 0.83666003, 0.51887452, 0.75592895, 0.84515425],\n",
       "       [0.42426407, 1.        , 0.49613894, 0.31622777, 0.42426407],\n",
       "       [0.57869139, 0.88659264, 0.80361438, 0.64699664, 0.57869139]])"
      ]
     },
     "execution_count": 176,
     "metadata": {},
     "output_type": "execute_result"
    }
   ],
   "source": [
    "np.tensordot(sentence_embeddings, question_embeddings, axes=(2,2))"
   ]
  },
  {
   "cell_type": "code",
   "execution_count": 125,
   "metadata": {},
   "outputs": [
    {
     "data": {
      "text/plain": [
       "array([[[0.26726124, 0.53452248, 0.80178373],\n",
       "        [0.        , 0.89442719, 0.4472136 ],\n",
       "        [0.45749571, 0.76249285, 0.45749571]],\n",
       "\n",
       "       [[0.31622777, 0.        , 0.9486833 ],\n",
       "        [0.81649658, 0.40824829, 0.40824829],\n",
       "        [0.40824829, 0.81649658, 0.40824829]]])"
      ]
     },
     "execution_count": 125,
     "metadata": {},
     "output_type": "execute_result"
    }
   ],
   "source": [
    "sentence_embeddings"
   ]
  },
  {
   "cell_type": "code",
   "execution_count": 142,
   "metadata": {},
   "outputs": [
    {
     "data": {
      "text/plain": [
       "array([[[0.31622777, 0.        , 0.9486833 ],\n",
       "        [0.        , 0.89442719, 0.4472136 ],\n",
       "        [0.83205029, 0.5547002 , 0.        ],\n",
       "        [0.70710678, 0.        , 0.70710678],\n",
       "        [0.31622777, 0.        , 0.9486833 ]],\n",
       "\n",
       "       [[0.30151134, 0.30151134, 0.90453403],\n",
       "        [0.40824829, 0.81649658, 0.40824829],\n",
       "        [0.80178373, 0.53452248, 0.26726124],\n",
       "        [0.57735027, 0.57735027, 0.57735027],\n",
       "        [0.30151134, 0.30151134, 0.90453403]]])"
      ]
     },
     "execution_count": 142,
     "metadata": {},
     "output_type": "execute_result"
    }
   ],
   "source": [
    "question_embeddings"
   ]
  },
  {
   "cell_type": "code",
   "execution_count": null,
   "metadata": {},
   "outputs": [],
   "source": [
    "recall = similarity.max(axis=1).sum()/len(sentence_embeddings)\n",
    "precision = similarity.max(axis=0).sum()/len(question_embeddings)\n",
    "f1 = 2*recall*precision/(recall+precision)\n",
    "f1"
   ]
  }
 ],
 "metadata": {
  "kernelspec": {
   "display_name": "Python 3.8.5 ('base')",
   "language": "python",
   "name": "python3"
  },
  "language_info": {
   "codemirror_mode": {
    "name": "ipython",
    "version": 3
   },
   "file_extension": ".py",
   "mimetype": "text/x-python",
   "name": "python",
   "nbconvert_exporter": "python",
   "pygments_lexer": "ipython3",
   "version": "3.8.5"
  },
  "orig_nbformat": 4,
  "vscode": {
   "interpreter": {
    "hash": "b9c69bc24335dc0e55392644c8f34f14710bb68159a638262db0555ff8c8aa69"
   }
  }
 },
 "nbformat": 4,
 "nbformat_minor": 2
}
